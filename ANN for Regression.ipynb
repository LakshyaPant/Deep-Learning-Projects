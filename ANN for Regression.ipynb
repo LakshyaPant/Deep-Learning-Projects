{
 "cells": [
  {
   "cell_type": "code",
   "execution_count": 1,
   "id": "54cb2277",
   "metadata": {},
   "outputs": [],
   "source": [
    "import numpy as np\n",
    "import pandas as pd\n",
    "import tensorflow as tf"
   ]
  },
  {
   "cell_type": "code",
   "execution_count": 2,
   "id": "44fbe735",
   "metadata": {},
   "outputs": [
    {
     "data": {
      "text/plain": [
       "'2.10.0'"
      ]
     },
     "execution_count": 2,
     "metadata": {},
     "output_type": "execute_result"
    }
   ],
   "source": [
    "tf.__version__"
   ]
  },
  {
   "cell_type": "code",
   "execution_count": 8,
   "id": "eb06c818",
   "metadata": {},
   "outputs": [
    {
     "data": {
      "text/html": [
       "<div>\n",
       "<style scoped>\n",
       "    .dataframe tbody tr th:only-of-type {\n",
       "        vertical-align: middle;\n",
       "    }\n",
       "\n",
       "    .dataframe tbody tr th {\n",
       "        vertical-align: top;\n",
       "    }\n",
       "\n",
       "    .dataframe thead th {\n",
       "        text-align: right;\n",
       "    }\n",
       "</style>\n",
       "<table border=\"1\" class=\"dataframe\">\n",
       "  <thead>\n",
       "    <tr style=\"text-align: right;\">\n",
       "      <th></th>\n",
       "      <th>AT</th>\n",
       "      <th>V</th>\n",
       "      <th>AP</th>\n",
       "      <th>RH</th>\n",
       "      <th>PE</th>\n",
       "    </tr>\n",
       "  </thead>\n",
       "  <tbody>\n",
       "    <tr>\n",
       "      <th>0</th>\n",
       "      <td>14.96</td>\n",
       "      <td>41.76</td>\n",
       "      <td>1024.07</td>\n",
       "      <td>73.17</td>\n",
       "      <td>463.26</td>\n",
       "    </tr>\n",
       "    <tr>\n",
       "      <th>1</th>\n",
       "      <td>25.18</td>\n",
       "      <td>62.96</td>\n",
       "      <td>1020.04</td>\n",
       "      <td>59.08</td>\n",
       "      <td>444.37</td>\n",
       "    </tr>\n",
       "    <tr>\n",
       "      <th>2</th>\n",
       "      <td>5.11</td>\n",
       "      <td>39.40</td>\n",
       "      <td>1012.16</td>\n",
       "      <td>92.14</td>\n",
       "      <td>488.56</td>\n",
       "    </tr>\n",
       "    <tr>\n",
       "      <th>3</th>\n",
       "      <td>20.86</td>\n",
       "      <td>57.32</td>\n",
       "      <td>1010.24</td>\n",
       "      <td>76.64</td>\n",
       "      <td>446.48</td>\n",
       "    </tr>\n",
       "    <tr>\n",
       "      <th>4</th>\n",
       "      <td>10.82</td>\n",
       "      <td>37.50</td>\n",
       "      <td>1009.23</td>\n",
       "      <td>96.62</td>\n",
       "      <td>473.90</td>\n",
       "    </tr>\n",
       "    <tr>\n",
       "      <th>5</th>\n",
       "      <td>26.27</td>\n",
       "      <td>59.44</td>\n",
       "      <td>1012.23</td>\n",
       "      <td>58.77</td>\n",
       "      <td>443.67</td>\n",
       "    </tr>\n",
       "    <tr>\n",
       "      <th>6</th>\n",
       "      <td>15.89</td>\n",
       "      <td>43.96</td>\n",
       "      <td>1014.02</td>\n",
       "      <td>75.24</td>\n",
       "      <td>467.35</td>\n",
       "    </tr>\n",
       "    <tr>\n",
       "      <th>7</th>\n",
       "      <td>9.48</td>\n",
       "      <td>44.71</td>\n",
       "      <td>1019.12</td>\n",
       "      <td>66.43</td>\n",
       "      <td>478.42</td>\n",
       "    </tr>\n",
       "    <tr>\n",
       "      <th>8</th>\n",
       "      <td>14.64</td>\n",
       "      <td>45.00</td>\n",
       "      <td>1021.78</td>\n",
       "      <td>41.25</td>\n",
       "      <td>475.98</td>\n",
       "    </tr>\n",
       "    <tr>\n",
       "      <th>9</th>\n",
       "      <td>11.74</td>\n",
       "      <td>43.56</td>\n",
       "      <td>1015.14</td>\n",
       "      <td>70.72</td>\n",
       "      <td>477.50</td>\n",
       "    </tr>\n",
       "  </tbody>\n",
       "</table>\n",
       "</div>"
      ],
      "text/plain": [
       "      AT      V       AP     RH      PE\n",
       "0  14.96  41.76  1024.07  73.17  463.26\n",
       "1  25.18  62.96  1020.04  59.08  444.37\n",
       "2   5.11  39.40  1012.16  92.14  488.56\n",
       "3  20.86  57.32  1010.24  76.64  446.48\n",
       "4  10.82  37.50  1009.23  96.62  473.90\n",
       "5  26.27  59.44  1012.23  58.77  443.67\n",
       "6  15.89  43.96  1014.02  75.24  467.35\n",
       "7   9.48  44.71  1019.12  66.43  478.42\n",
       "8  14.64  45.00  1021.78  41.25  475.98\n",
       "9  11.74  43.56  1015.14  70.72  477.50"
      ]
     },
     "execution_count": 8,
     "metadata": {},
     "output_type": "execute_result"
    }
   ],
   "source": [
    "dataset = pd.read_excel('C:/Course 2/Folds5x2_pp.xlsx')\n",
    "dataset.head(10)"
   ]
  },
  {
   "cell_type": "code",
   "execution_count": 9,
   "id": "b57e21d6",
   "metadata": {},
   "outputs": [
    {
     "name": "stdout",
     "output_type": "stream",
     "text": [
      "[[  14.96   41.76 1024.07   73.17]\n",
      " [  25.18   62.96 1020.04   59.08]\n",
      " [   5.11   39.4  1012.16   92.14]\n",
      " ...\n",
      " [  31.32   74.33 1012.92   36.48]\n",
      " [  24.48   69.45 1013.86   62.39]\n",
      " [  21.6    62.52 1017.23   67.87]]\n"
     ]
    }
   ],
   "source": [
    "X = dataset.iloc[:,:-1].values\n",
    "y = dataset.iloc[:, -1].values\n",
    "print(X)"
   ]
  },
  {
   "cell_type": "code",
   "execution_count": 11,
   "id": "598daf5d",
   "metadata": {},
   "outputs": [
    {
     "data": {
      "text/plain": [
       "array([[  11.22,   43.13, 1017.24,   80.9 ],\n",
       "       [  13.67,   54.3 , 1015.92,   75.42],\n",
       "       [  32.84,   77.95, 1014.68,   45.8 ],\n",
       "       ...,\n",
       "       [  16.81,   38.52, 1018.26,   75.21],\n",
       "       [  12.8 ,   41.16, 1022.43,   86.19],\n",
       "       [  32.32,   67.9 , 1006.08,   37.93]])"
      ]
     },
     "execution_count": 11,
     "metadata": {},
     "output_type": "execute_result"
    }
   ],
   "source": [
    "from sklearn.model_selection import train_test_split\n",
    "X_train, X_test, y_train, y_test = train_test_split(X, y, test_size = 0.2, random_state = 0)\n",
    "X_train"
   ]
  },
  {
   "cell_type": "code",
   "execution_count": 13,
   "id": "250c57ab",
   "metadata": {},
   "outputs": [],
   "source": [
    "ann = tf.keras.models.Sequential()"
   ]
  },
  {
   "cell_type": "code",
   "execution_count": 14,
   "id": "2b1ba2cc",
   "metadata": {},
   "outputs": [],
   "source": [
    "ann.add(tf.keras.layers.Dense(units = 6, activation = 'relu'))"
   ]
  },
  {
   "cell_type": "code",
   "execution_count": 18,
   "id": "77016010",
   "metadata": {},
   "outputs": [],
   "source": [
    "ann.add(tf.keras.layers.Dense(units = 6, activation = 'relu'))"
   ]
  },
  {
   "cell_type": "code",
   "execution_count": 21,
   "id": "091796ae",
   "metadata": {},
   "outputs": [],
   "source": [
    "ann.add(tf.keras.layers.Dense(units = 1))"
   ]
  },
  {
   "cell_type": "code",
   "execution_count": 22,
   "id": "4989974d",
   "metadata": {},
   "outputs": [],
   "source": [
    "ann.compile(optimizer = 'adam', loss = 'mean_squared_error')"
   ]
  },
  {
   "cell_type": "code",
   "execution_count": 24,
   "id": "f1eade5f",
   "metadata": {},
   "outputs": [
    {
     "name": "stdout",
     "output_type": "stream",
     "text": [
      "Epoch 1/100\n",
      "240/240 [==============================] - 1s 3ms/step - loss: 185393.0000\n",
      "Epoch 2/100\n",
      "240/240 [==============================] - 1s 3ms/step - loss: 185187.1250\n",
      "Epoch 3/100\n",
      "240/240 [==============================] - 1s 3ms/step - loss: 184981.2656\n",
      "Epoch 4/100\n",
      "240/240 [==============================] - 1s 3ms/step - loss: 184775.4531\n",
      "Epoch 5/100\n",
      "240/240 [==============================] - 1s 3ms/step - loss: 184569.8750\n",
      "Epoch 6/100\n",
      "240/240 [==============================] - 1s 3ms/step - loss: 184364.3281\n",
      "Epoch 7/100\n",
      "240/240 [==============================] - 1s 3ms/step - loss: 184158.9844\n",
      "Epoch 8/100\n",
      "240/240 [==============================] - 1s 3ms/step - loss: 183953.5781\n",
      "Epoch 9/100\n",
      "240/240 [==============================] - 1s 3ms/step - loss: 183748.5000\n",
      "Epoch 10/100\n",
      "240/240 [==============================] - 1s 3ms/step - loss: 183543.4531\n",
      "Epoch 11/100\n",
      "240/240 [==============================] - 1s 3ms/step - loss: 183338.4531\n",
      "Epoch 12/100\n",
      "240/240 [==============================] - 1s 3ms/step - loss: 183133.5938\n",
      "Epoch 13/100\n",
      "240/240 [==============================] - 1s 3ms/step - loss: 182929.0000\n",
      "Epoch 14/100\n",
      "240/240 [==============================] - 1s 3ms/step - loss: 182724.2500\n",
      "Epoch 15/100\n",
      "240/240 [==============================] - 1s 3ms/step - loss: 182519.8281\n",
      "Epoch 16/100\n",
      "240/240 [==============================] - 1s 3ms/step - loss: 182315.4844\n",
      "Epoch 17/100\n",
      "240/240 [==============================] - 1s 3ms/step - loss: 182111.2969\n",
      "Epoch 18/100\n",
      "240/240 [==============================] - 1s 3ms/step - loss: 181907.1250\n",
      "Epoch 19/100\n",
      "240/240 [==============================] - 1s 3ms/step - loss: 181703.2188\n",
      "Epoch 20/100\n",
      "240/240 [==============================] - 1s 3ms/step - loss: 181499.2031\n",
      "Epoch 21/100\n",
      "240/240 [==============================] - 1s 3ms/step - loss: 181295.4219\n",
      "Epoch 22/100\n",
      "240/240 [==============================] - 1s 3ms/step - loss: 181091.7500\n",
      "Epoch 23/100\n",
      "240/240 [==============================] - 1s 3ms/step - loss: 180888.1406\n",
      "Epoch 24/100\n",
      "240/240 [==============================] - 1s 3ms/step - loss: 180684.6875\n",
      "Epoch 25/100\n",
      "240/240 [==============================] - 1s 3ms/step - loss: 180481.3906\n",
      "Epoch 26/100\n",
      "240/240 [==============================] - 1s 3ms/step - loss: 180278.1719\n",
      "Epoch 27/100\n",
      "240/240 [==============================] - 1s 3ms/step - loss: 180075.0781\n",
      "Epoch 28/100\n",
      "240/240 [==============================] - 1s 3ms/step - loss: 179872.0312\n",
      "Epoch 29/100\n",
      "240/240 [==============================] - 1s 3ms/step - loss: 179669.2188\n",
      "Epoch 30/100\n",
      "240/240 [==============================] - 1s 3ms/step - loss: 179466.4219\n",
      "Epoch 31/100\n",
      "240/240 [==============================] - 1s 3ms/step - loss: 179263.9062\n",
      "Epoch 32/100\n",
      "240/240 [==============================] - 1s 3ms/step - loss: 179061.2656\n",
      "Epoch 33/100\n",
      "240/240 [==============================] - 1s 3ms/step - loss: 178858.8750\n",
      "Epoch 34/100\n",
      "240/240 [==============================] - 1s 3ms/step - loss: 178656.5781\n",
      "Epoch 35/100\n",
      "240/240 [==============================] - 1s 3ms/step - loss: 178454.3906\n",
      "Epoch 36/100\n",
      "240/240 [==============================] - 1s 3ms/step - loss: 178252.2031\n",
      "Epoch 37/100\n",
      "240/240 [==============================] - 1s 3ms/step - loss: 178050.3125\n",
      "Epoch 38/100\n",
      "240/240 [==============================] - 1s 3ms/step - loss: 177848.4531\n",
      "Epoch 39/100\n",
      "240/240 [==============================] - 1s 3ms/step - loss: 177646.7656\n",
      "Epoch 40/100\n",
      "240/240 [==============================] - 1s 4ms/step - loss: 177445.1250\n",
      "Epoch 41/100\n",
      "240/240 [==============================] - 1s 3ms/step - loss: 177243.6719\n",
      "Epoch 42/100\n",
      "240/240 [==============================] - 1s 3ms/step - loss: 177042.1875\n",
      "Epoch 43/100\n",
      "240/240 [==============================] - 1s 3ms/step - loss: 176840.9688\n",
      "Epoch 44/100\n",
      "240/240 [==============================] - 1s 3ms/step - loss: 176639.8906\n",
      "Epoch 45/100\n",
      "240/240 [==============================] - 1s 3ms/step - loss: 176438.7500\n",
      "Epoch 46/100\n",
      "240/240 [==============================] - 1s 3ms/step - loss: 176237.9531\n",
      "Epoch 47/100\n",
      "240/240 [==============================] - 1s 3ms/step - loss: 176037.1094\n",
      "Epoch 48/100\n",
      "240/240 [==============================] - 1s 3ms/step - loss: 175836.4688\n",
      "Epoch 49/100\n",
      "240/240 [==============================] - 1s 3ms/step - loss: 175635.8906\n",
      "Epoch 50/100\n",
      "240/240 [==============================] - 1s 3ms/step - loss: 175435.4375\n",
      "Epoch 51/100\n",
      "240/240 [==============================] - 1s 3ms/step - loss: 175235.0938\n",
      "Epoch 52/100\n",
      "240/240 [==============================] - 1s 3ms/step - loss: 175034.8438\n",
      "Epoch 53/100\n",
      "240/240 [==============================] - 1s 3ms/step - loss: 174834.7500\n",
      "Epoch 54/100\n",
      "240/240 [==============================] - 1s 3ms/step - loss: 174634.7188\n",
      "Epoch 55/100\n",
      "240/240 [==============================] - 1s 3ms/step - loss: 174434.9219\n",
      "Epoch 56/100\n",
      "240/240 [==============================] - 1s 3ms/step - loss: 174235.0625\n",
      "Epoch 57/100\n",
      "240/240 [==============================] - 1s 3ms/step - loss: 174035.4219\n",
      "Epoch 58/100\n",
      "240/240 [==============================] - 1s 3ms/step - loss: 173835.9375\n",
      "Epoch 59/100\n",
      "240/240 [==============================] - 1s 3ms/step - loss: 173636.4375\n",
      "Epoch 60/100\n",
      "240/240 [==============================] - 1s 3ms/step - loss: 173437.1562\n",
      "Epoch 61/100\n",
      "240/240 [==============================] - 1s 3ms/step - loss: 173237.9219\n",
      "Epoch 62/100\n",
      "240/240 [==============================] - 1s 3ms/step - loss: 173038.7656\n",
      "Epoch 63/100\n",
      "240/240 [==============================] - 1s 3ms/step - loss: 172839.7969\n",
      "Epoch 64/100\n",
      "240/240 [==============================] - 1s 3ms/step - loss: 172640.9062\n",
      "Epoch 65/100\n",
      "240/240 [==============================] - 1s 3ms/step - loss: 172442.1562\n",
      "Epoch 66/100\n",
      "240/240 [==============================] - 1s 3ms/step - loss: 172243.5625\n",
      "Epoch 67/100\n",
      "240/240 [==============================] - 1s 3ms/step - loss: 172045.1250\n",
      "Epoch 68/100\n",
      "240/240 [==============================] - 1s 3ms/step - loss: 171846.7500\n",
      "Epoch 69/100\n",
      "240/240 [==============================] - 1s 3ms/step - loss: 171648.5469\n",
      "Epoch 70/100\n",
      "240/240 [==============================] - 1s 3ms/step - loss: 171450.3125\n",
      "Epoch 71/100\n",
      "240/240 [==============================] - 1s 4ms/step - loss: 171252.2969\n",
      "Epoch 72/100\n",
      "240/240 [==============================] - 1s 3ms/step - loss: 171054.3906\n",
      "Epoch 73/100\n",
      "240/240 [==============================] - 1s 3ms/step - loss: 170856.5000\n",
      "Epoch 74/100\n",
      "240/240 [==============================] - 1s 3ms/step - loss: 170658.8281\n",
      "Epoch 75/100\n",
      "240/240 [==============================] - 1s 3ms/step - loss: 170461.2500\n",
      "Epoch 76/100\n",
      "240/240 [==============================] - 1s 3ms/step - loss: 170263.7500\n",
      "Epoch 77/100\n",
      "240/240 [==============================] - 1s 3ms/step - loss: 170066.5000\n",
      "Epoch 78/100\n",
      "240/240 [==============================] - 1s 3ms/step - loss: 169869.2188\n",
      "Epoch 79/100\n",
      "240/240 [==============================] - 1s 3ms/step - loss: 169672.1406\n",
      "Epoch 80/100\n",
      "240/240 [==============================] - 1s 3ms/step - loss: 169475.0156\n",
      "Epoch 81/100\n",
      "240/240 [==============================] - 1s 3ms/step - loss: 169278.1406\n",
      "Epoch 82/100\n",
      "240/240 [==============================] - 1s 3ms/step - loss: 169081.3906\n",
      "Epoch 83/100\n",
      "240/240 [==============================] - 1s 3ms/step - loss: 168884.7656\n",
      "Epoch 84/100\n",
      "240/240 [==============================] - 1s 3ms/step - loss: 168688.2188\n",
      "Epoch 85/100\n",
      "240/240 [==============================] - 1s 3ms/step - loss: 168491.7812\n",
      "Epoch 86/100\n",
      "240/240 [==============================] - 1s 3ms/step - loss: 168295.4375\n",
      "Epoch 87/100\n",
      "240/240 [==============================] - 1s 3ms/step - loss: 168099.1719\n",
      "Epoch 88/100\n",
      "240/240 [==============================] - 1s 3ms/step - loss: 167903.0938\n",
      "Epoch 89/100\n",
      "240/240 [==============================] - 1s 3ms/step - loss: 167707.2188\n",
      "Epoch 90/100\n",
      "240/240 [==============================] - 1s 3ms/step - loss: 167511.3750\n",
      "Epoch 91/100\n",
      "240/240 [==============================] - 1s 3ms/step - loss: 167315.6719\n",
      "Epoch 92/100\n",
      "240/240 [==============================] - 1s 3ms/step - loss: 167119.9375\n",
      "Epoch 93/100\n",
      "240/240 [==============================] - 1s 3ms/step - loss: 166924.3906\n",
      "Epoch 94/100\n",
      "240/240 [==============================] - 1s 3ms/step - loss: 166729.0000\n",
      "Epoch 95/100\n",
      "240/240 [==============================] - 1s 3ms/step - loss: 166533.7812\n",
      "Epoch 96/100\n",
      "240/240 [==============================] - 1s 3ms/step - loss: 166338.5625\n",
      "Epoch 97/100\n",
      "240/240 [==============================] - 1s 3ms/step - loss: 166143.4844\n",
      "Epoch 98/100\n",
      "240/240 [==============================] - 1s 3ms/step - loss: 165948.5781\n",
      "Epoch 99/100\n",
      "240/240 [==============================] - 1s 3ms/step - loss: 165753.6719\n",
      "Epoch 100/100\n",
      "240/240 [==============================] - 1s 3ms/step - loss: 165558.9844\n"
     ]
    },
    {
     "data": {
      "text/plain": [
       "<keras.callbacks.History at 0x205ca5fcca0>"
      ]
     },
     "execution_count": 24,
     "metadata": {},
     "output_type": "execute_result"
    }
   ],
   "source": [
    "ann.fit(X_train, y_train, batch_size = 32, epochs = 100)"
   ]
  },
  {
   "cell_type": "code",
   "execution_count": 26,
   "id": "1c9cd8a6",
   "metadata": {},
   "outputs": [
    {
     "name": "stdout",
     "output_type": "stream",
     "text": [
      "60/60 [==============================] - 0s 3ms/step\n",
      "[[ 47.89 431.23]\n",
      " [ 47.89 460.01]\n",
      " [ 47.89 461.14]\n",
      " ...\n",
      " [ 47.89 473.26]\n",
      " [ 47.89 438.  ]\n",
      " [ 47.89 463.28]]\n"
     ]
    }
   ],
   "source": [
    "y_pred = ann.predict(X_test)\n",
    "np.set_printoptions(precision = 2)\n",
    "print(np.concatenate((y_pred.reshape(len(y_pred),1),y_test.reshape(len(y_test),1)), 1))"
   ]
  },
  {
   "cell_type": "code",
   "execution_count": null,
   "id": "d2b52798",
   "metadata": {},
   "outputs": [],
   "source": []
  },
  {
   "cell_type": "code",
   "execution_count": null,
   "id": "0f17c209",
   "metadata": {},
   "outputs": [],
   "source": []
  }
 ],
 "metadata": {
  "kernelspec": {
   "display_name": "Python 3 (ipykernel)",
   "language": "python",
   "name": "python3"
  },
  "language_info": {
   "codemirror_mode": {
    "name": "ipython",
    "version": 3
   },
   "file_extension": ".py",
   "mimetype": "text/x-python",
   "name": "python",
   "nbconvert_exporter": "python",
   "pygments_lexer": "ipython3",
   "version": "3.9.7"
  }
 },
 "nbformat": 4,
 "nbformat_minor": 5
}
